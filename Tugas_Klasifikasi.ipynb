{
  "nbformat": 4,
  "nbformat_minor": 0,
  "metadata": {
    "colab": {
      "provenance": [],
      "authorship_tag": "ABX9TyMtYsZ4/H4Ikcys8ZkJFdkA",
      "include_colab_link": true
    },
    "kernelspec": {
      "name": "python3",
      "display_name": "Python 3"
    },
    "language_info": {
      "name": "python"
    }
  },
  "cells": [
    {
      "cell_type": "markdown",
      "metadata": {
        "id": "view-in-github",
        "colab_type": "text"
      },
      "source": [
        "<a href=\"https://colab.research.google.com/github/farrelakhdan/Tugas_Text_Analitik/blob/main/Tugas_Klasifikasi.ipynb\" target=\"_parent\"><img src=\"https://colab.research.google.com/assets/colab-badge.svg\" alt=\"Open In Colab\"/></a>"
      ]
    },
    {
      "cell_type": "code",
      "execution_count": null,
      "metadata": {
        "id": "o2xNhLc6YaKC"
      },
      "outputs": [],
      "source": [
        "import numpy as np\n",
        "import pandas as pd\n",
        "import matplotlib.pyplot as plt\n",
        "import seaborn as sns\n",
        "from sklearn.model_selection import train_test_split\n",
        "from sklearn.feature_extraction.text import TfidfVectorizer\n",
        "from sklearn.linear_model import LogisticRegression\n",
        "from sklearn.naive_bayes import MultinomialNB\n",
        "from sklearn.metrics import accuracy_score, precision_score, recall_score, f1_score, confusion_matrix\n",
        "\n",
        "# Untuk dataset IMDb\n",
        "import tensorflow_datasets as tfds"
      ]
    },
    {
      "cell_type": "code",
      "source": [
        "# Load dataset\n",
        "dataset = tfds.load('imdb_reviews', as_supervised=True)\n",
        "\n",
        "# Ekstrak data train dan test\n",
        "train_data, test_data = dataset['train'], dataset['test']\n",
        "\n",
        "# Konversi ke pandas DataFrame\n",
        "def dataset_to_dataframe(dataset):\n",
        "    texts = []\n",
        "    labels = []\n",
        "    for text, label in tfds.as_numpy(dataset):\n",
        "        texts.append(text.decode('utf-8'))\n",
        "        labels.append(label)\n",
        "    return pd.DataFrame({'text': texts, 'label': labels})\n",
        "\n",
        "train_df = dataset_to_dataframe(train_data)\n",
        "test_df = dataset_to_dataframe(test_data)\n",
        "\n",
        "# Gabungkan train dan test untuk eksplorasi data\n",
        "df = pd.concat([train_df, test_df], ignore_index=True)\n",
        "\n",
        "print(f\"Jumlah data: {len(df)}\")\n",
        "print(f\"Distribusi label:\\n{df['label'].value_counts()}\")"
      ],
      "metadata": {
        "id": "KGCnI4RJZDtm"
      },
      "execution_count": null,
      "outputs": []
    },
    {
      "cell_type": "code",
      "source": [
        "# Distribusi label\n",
        "sns.countplot(x='label', data=df)\n",
        "plt.title('Distribusi Label Sentimen')\n",
        "plt.show()\n",
        "\n",
        "# Contoh teks positif\n",
        "print(\"Contoh ulasan positif:\")\n",
        "print(df[df['label'] == 1]['text'].iloc[0])\n",
        "\n",
        "# Contoh teks negatif\n",
        "print(\"\\nContoh ulasan negatif:\")\n",
        "print(df[df['label'] == 0]['text'].iloc[0])"
      ],
      "metadata": {
        "id": "pQ9IkSOyZImg"
      },
      "execution_count": null,
      "outputs": []
    },
    {
      "cell_type": "code",
      "source": [
        "import nltk\n",
        "nltk.download('punkt_tab')\n",
        "from nltk.tokenize import word_tokenize\n",
        "from nltk.corpus import stopwords\n",
        "from nltk.stem import PorterStemmer\n",
        "\n",
        "nltk.download('punkt')\n",
        "nltk.download('stopwords')\n",
        "\n",
        "def preprocess_text(text, stemming=False):\n",
        "    # Tokenisasi\n",
        "    tokens = word_tokenize(text)\n",
        "\n",
        "    # Lowercasing\n",
        "    tokens = [token.lower() for token in tokens]\n",
        "\n",
        "    # Hapus tanda baca dan karakter non-alphanumeric\n",
        "    tokens = [token for token in tokens if token.isalpha()]\n",
        "\n",
        "    # Stopword removal\n",
        "    stop_words = set(stopwords.words('english'))\n",
        "    tokens = [token for token in tokens if token not in stop_words]\n",
        "\n",
        "    # Stemming (opsional)\n",
        "    if stemming:\n",
        "        stemmer = PorterStemmer()\n",
        "        tokens = [stemmer.stem(token) for token in tokens]\n",
        "\n",
        "    return ' '.join(tokens)\n",
        "\n",
        "# Contoh preprocessing\n",
        "sample_text = df['text'].iloc[0]\n",
        "print(\"Original text:\", sample_text)\n",
        "print(\"Preprocessed text:\", preprocess_text(sample_text))\n",
        "\n",
        "# Preprocessing seluruh dataset\n",
        "df['cleaned_text'] = df['text'].apply(lambda x: preprocess_text(x, stemming=False))"
      ],
      "metadata": {
        "id": "_1G-2O_eZVQS"
      },
      "execution_count": null,
      "outputs": []
    },
    {
      "cell_type": "code",
      "source": [
        "tfidf_vectorizer = TfidfVectorizer(max_features=5000)\n",
        "X = tfidf_vectorizer.fit_transform(df['cleaned_text'])\n",
        "y = df['label']\n",
        "\n",
        "# Split data menjadi train dan test\n",
        "X_train, X_test, y_train, y_test = train_test_split(X, y, test_size=0.2, random_state=42)\n",
        "\n",
        "print(f\"Shape of X_train: {X_train.shape}\")\n",
        "print(f\"Shape of X_test: {X_test.shape}\")"
      ],
      "metadata": {
        "id": "FKAL86XNZqEf"
      },
      "execution_count": null,
      "outputs": []
    },
    {
      "cell_type": "code",
      "source": [
        "# Model 1: Logistic Regression\n",
        "lr_model = LogisticRegression(max_iter=1000)\n",
        "lr_model.fit(X_train, y_train)\n",
        "\n",
        "# Model 2: Naive Bayes\n",
        "nb_model = MultinomialNB()\n",
        "nb_model.fit(X_train, y_train)"
      ],
      "metadata": {
        "id": "cfO-yzPcZZj1"
      },
      "execution_count": null,
      "outputs": []
    },
    {
      "cell_type": "code",
      "source": [
        "def evaluate_model(model, X_test, y_test):\n",
        "    y_pred = model.predict(X_test)\n",
        "\n",
        "    accuracy = accuracy_score(y_test, y_pred)\n",
        "    precision = precision_score(y_test, y_pred)\n",
        "    recall = recall_score(y_test, y_pred)\n",
        "    f1 = f1_score(y_test, y_pred)\n",
        "\n",
        "    print(f\"Accuracy: {accuracy:.4f}\")\n",
        "    print(f\"Precision: {precision:.4f}\")\n",
        "    print(f\"Recall: {recall:.4f}\")\n",
        "    print(f\"F1-Score: {f1:.4f}\")\n",
        "\n",
        "    # Confusion matrix\n",
        "    cm = confusion_matrix(y_test, y_pred)\n",
        "    sns.heatmap(cm, annot=True, fmt='d', cmap='Blues')\n",
        "    plt.xlabel('Predicted')\n",
        "    plt.ylabel('Actual')\n",
        "    plt.title('Confusion Matrix')\n",
        "    plt.show()\n",
        "\n",
        "# Evaluasi Logistic Regression\n",
        "print(\"Logistic Regression Performance:\")\n",
        "evaluate_model(lr_model, X_test, y_test)\n",
        "\n",
        "# Evaluasi Naive Bayes\n",
        "print(\"\\nNaive Bayes Performance:\")\n",
        "evaluate_model(nb_model, X_test, y_test)"
      ],
      "metadata": {
        "id": "rh2rJE2_Z4Bs"
      },
      "execution_count": null,
      "outputs": []
    },
    {
      "cell_type": "code",
      "source": [
        "def predict_sentiment(text, model, vectorizer):\n",
        "    # Preprocess teks\n",
        "    cleaned_text = preprocess_text(text)\n",
        "    # Transform ke TF-IDF\n",
        "    text_vector = vectorizer.transform([cleaned_text])\n",
        "    # Prediksi\n",
        "    prediction = model.predict(text_vector)\n",
        "    # Konversi ke label\n",
        "    return \"Positive\" if prediction[0] == 1 else \"Negative\"\n",
        "\n",
        "# Contoh teks baru\n",
        "sample_texts = [\n",
        "    \"This movie was fantastic! I loved every minute of it.\",\n",
        "    \"The plot was terrible and the acting was worse.\",\n",
        "    \"It was okay, not great but not bad either.\"\n",
        "]\n",
        "\n",
        "for text in sample_texts:\n",
        "    lr_pred = predict_sentiment(text, lr_model, tfidf_vectorizer)\n",
        "    nb_pred = predict_sentiment(text, nb_model, tfidf_vectorizer)\n",
        "    print(f\"\\nText: {text}\")\n",
        "    print(f\"LR Prediction: {lr_pred}\")\n",
        "    print(f\"NB Prediction: {nb_pred}\")"
      ],
      "metadata": {
        "id": "S-m5Z7oOZ8fk"
      },
      "execution_count": null,
      "outputs": []
    }
  ]
}